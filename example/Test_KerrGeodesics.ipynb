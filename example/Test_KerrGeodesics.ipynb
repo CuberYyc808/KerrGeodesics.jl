{
 "cells": [
  {
   "cell_type": "code",
   "execution_count": 1,
   "id": "fa9843d5",
   "metadata": {},
   "outputs": [],
   "source": [
    "using KerrGeodesics\n",
    "using Plots\n",
    "using GLMakie\n",
    "using GeometryBasics\n",
    "using Interpolations"
   ]
  },
  {
   "cell_type": "code",
   "execution_count": null,
   "id": "a685c731",
   "metadata": {},
   "outputs": [
    {
     "name": "stdout",
     "output_type": "stream",
     "text": [
      "  0.000287 seconds (435 allocations: 30.375 KiB)\n"
     ]
    },
    {
     "data": {
      "text/plain": [
       "Dict{String, Any} with 18 entries:\n",
       "  \"RadialFrequency\"    => 2.79272\n",
       "  \"e\"                  => 0.5\n",
       "  \"Cosθ_inc\"           => 0.8\n",
       "  \"a\"                  => 0.9\n",
       "  \"AngularMomentum\"    => 2.83592\n",
       "  \"Frequencies\"        => Dict(\"ϒϕ\"=>3.73576, \"ϒt\"=>171.093, \"ϒr\"=>2.79272, \"ϒθ…\n",
       "  \"InitialPhases\"      => (0.0, 0.0, 0.0, 0.0)\n",
       "  \"RadialRoots\"        => [20.0, 6.66667, 1.44177, 0.271714]\n",
       "  \"Energy\"             => 0.96412\n",
       "  \"ConstantsOfMotion\"  => Dict(\"Q\"=>4.54441, \"Lz\"=>2.83592, \"E\"=>0.96412)\n",
       "  \"PolarFrequency\"     => 3.55291\n",
       "  \"CarterConstant\"     => 4.54441\n",
       "  \"Parametrization\"    => \"Mino\"\n",
       "  \"FourVelocity\"       => Function[ut_contrav, ur_contrav, uθ_contrav, uφ_contr…\n",
       "  \"Trajectory\"         => Function[t, r, θ, ϕ]\n",
       "  \"Type\"               => [\"Bound\", \"Eccentric\", \"Inclined\"]\n",
       "  \"AzimuthalFrequency\" => 3.73576\n",
       "  \"p\"                  => 10.0"
      ]
     },
     "metadata": {},
     "output_type": "display_data"
    }
   ],
   "source": [
    "@time KG = Kerr_Geodesics(0.9, 10.0, 0.5, 0.8; initPhases = (0.0, 0.0, 0.0, 0.0))"
   ]
  },
  {
   "cell_type": "code",
   "execution_count": null,
   "id": "23e37cf7",
   "metadata": {},
   "outputs": [],
   "source": [
    "t, r, θ, ϕ = KG[\"Trajectory\"]\n",
    "λ_values = range(0, 20, 1000)\n",
    "t_values = [t(λ) for λ in λ_values]\n",
    "r_values = [r(λ) for λ in λ_values]\n",
    "θ_values = [θ(λ) for λ in λ_values]\n",
    "ϕ_values = [ϕ(λ) for λ in λ_values]\n",
    "\n",
    "x_values = r_values .* sin.(θ_values) .* cos.(ϕ_values)\n",
    "y_values = r_values .* sin.(θ_values) .* sin.(ϕ_values)\n",
    "z_values = r_values .* cos.(θ_values)\n",
    "\n",
    "a = assoc[\"a\"]\n",
    "rp = 1 + sqrt(1 - a^2)\n",
    "\n",
    "nframes = 900\n",
    "fps = 30\n",
    "\n",
    "t_video = range(t_values[1], t_values[end], length=nframes)\n",
    "\n",
    "itp_x = LinearInterpolation(t_values, x_values)\n",
    "itp_y = LinearInterpolation(t_values, y_values)\n",
    "itp_z = LinearInterpolation(t_values, z_values)\n",
    "\n",
    "fig = Figure(size=(800, 600))\n",
    "ax = Axis3(fig[1, 1], title=\"Particle's geodesic trajectory around a Kerr black hole\")\n",
    "sphere_mesh = Sphere(Point3f(0,0,0), rp)\n",
    "mesh!(ax, sphere_mesh, color=:black)\n",
    "\n",
    "lines!(ax, x_values, y_values, z_values, color=:gray)\n",
    "\n",
    "point = Observable(Point3f(itp_x(t_video[1]), itp_y(t_video[1]), itp_z(t_video[1])))\n",
    "GLMakie.scatter!(ax, point; color=:red, markersize=10)\n",
    "\n",
    "record(fig, \"Trajectory_generic.gif\", 1:nframes; framerate=fps) do i\n",
    "    point[] = Point3f(itp_x(t_video[i]), itp_y(t_video[i]), itp_z(t_video[i]))\n",
    "end"
   ]
  }
 ],
 "metadata": {
  "kernelspec": {
   "display_name": "Julia 1.10.2",
   "language": "julia",
   "name": "julia-1.10"
  },
  "language_info": {
   "file_extension": ".jl",
   "mimetype": "application/julia",
   "name": "julia",
   "version": "1.10.2"
  }
 },
 "nbformat": 4,
 "nbformat_minor": 5
}
